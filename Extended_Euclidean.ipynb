{
  "nbformat": 4,
  "nbformat_minor": 0,
  "metadata": {
    "colab": {
      "name": "Extended_Euclidean",
      "provenance": [],
      "collapsed_sections": [],
      "authorship_tag": "ABX9TyPnK6VVkn88mAGakvVyK5ki",
      "include_colab_link": true
    },
    "kernelspec": {
      "name": "python3",
      "display_name": "Python 3"
    },
    "accelerator": "GPU"
  },
  "cells": [
    {
      "cell_type": "markdown",
      "metadata": {
        "id": "view-in-github",
        "colab_type": "text"
      },
      "source": [
        "<a href=\"https://colab.research.google.com/github/daffamaul30/Extended-Euclidean/blob/master/Extended_Euclidean.ipynb\" target=\"_parent\"><img src=\"https://colab.research.google.com/assets/colab-badge.svg\" alt=\"Open In Colab\"/></a>"
      ]
    },
    {
      "cell_type": "code",
      "metadata": {
        "id": "7cWnNI7KyXLg",
        "colab_type": "code",
        "colab": {}
      },
      "source": [
        "# gcd(a,b)\n",
        "# 1*a + 0*b = a\n",
        "# 0*a + 1*b = b\n",
        "\n",
        "print(\"gcd(a,b)\")\n",
        "a = int(input(\"a : \"))\n",
        "b = int(input(\"b : \"))\n",
        "print(\"gcd(\",a,\",\",b,\")\")\n",
        "if (a < b):\n",
        "  tmp = a\n",
        "  a = b\n",
        "  b = tmp\n",
        "\n",
        "def extended_euclidean(a,b):\n",
        "  d1 = a\n",
        "  d2 = b\n",
        "  x0 = 1\n",
        "  y0 = 0\n",
        "  x1 = 0\n",
        "  y1 = 1\n",
        "  #print(x0,\"*\",a,\"+\",y0,\"*\",b,\"=\",a)\n",
        "  #print(x1,\"*\",a,\"+\",y1,\"*\",b,\"=\",b)\n",
        "  while ((d2 !=0) and (d2 != 1)):\n",
        "    z = d2\n",
        "    n = 1\n",
        "    hasil = 0\n",
        "    while (int(hasil) <= d1):\n",
        "      n += 1\n",
        "      hasil = n*d2\n",
        "    n -= 1\n",
        "    #print(n)\n",
        "    print(x0,\"*\",a,\"+\",y0,\"*\",b,\"=\",d1)\n",
        "    print(x1,\"*\",a,\"+\",y1,\"*\",b,\"=\",d2,\"  *\",n)\n",
        "    \n",
        "    tmp = x1\n",
        "    tmp1 = y1\n",
        "    tmp2 = d2\n",
        "    \n",
        "    x1 = x1*n\n",
        "    y1 = y1*n\n",
        "    d2 = d2*n\n",
        "\n",
        "    x1 = x0 - x1\n",
        "    y1 = y0 - y1\n",
        "    d2 = d1 - d2\n",
        "\n",
        "    x0 = tmp\n",
        "    y0 = tmp1\n",
        "    d1 = tmp2\n",
        "\n",
        "\n",
        "    print(x1,\"*\",a,\"+\",y1,\"*\",b,\"=\",d2)\n",
        "    print()\n",
        "  if (d2 == 1):\n",
        "    z = d2\n",
        "  print(\"gcd(\",a,\",\",b,\")\",\":\",z)\n",
        "\n",
        "\n",
        "\n",
        "extended_euclidean(a,b)\n"
      ],
      "execution_count": 0,
      "outputs": []
    }
  ]
}